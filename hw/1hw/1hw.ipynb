{
    "metadata": {
        "kernelspec": {
            "name": "SQL",
            "display_name": "SQL",
            "language": "sql"
        },
        "language_info": {
            "name": "sql",
            "version": ""
        }
    },
    "nbformat_minor": 2,
    "nbformat": 4,
    "cells": [
        {
            "cell_type": "code",
            "source": [
                "select * from sys.tables;"
            ],
            "metadata": {
                "azdata_cell_guid": "07ee8bc3-c1fa-49b3-b7e7-7e1c563632a6"
            },
            "outputs": [
                {
                    "output_type": "display_data",
                    "data": {
                        "text/html": "(9 rows affected)"
                    },
                    "metadata": {}
                },
                {
                    "output_type": "display_data",
                    "data": {
                        "text/html": "Total execution time: 00:00:00.119"
                    },
                    "metadata": {}
                },
                {
                    "output_type": "execute_result",
                    "execution_count": 1,
                    "data": {
                        "application/vnd.dataresource+json": {
                            "schema": {
                                "fields": [
                                    {
                                        "name": "name"
                                    },
                                    {
                                        "name": "object_id"
                                    },
                                    {
                                        "name": "principal_id"
                                    },
                                    {
                                        "name": "schema_id"
                                    },
                                    {
                                        "name": "parent_object_id"
                                    },
                                    {
                                        "name": "type"
                                    },
                                    {
                                        "name": "type_desc"
                                    },
                                    {
                                        "name": "create_date"
                                    },
                                    {
                                        "name": "modify_date"
                                    },
                                    {
                                        "name": "is_ms_shipped"
                                    },
                                    {
                                        "name": "is_published"
                                    },
                                    {
                                        "name": "is_schema_published"
                                    },
                                    {
                                        "name": "lob_data_space_id"
                                    },
                                    {
                                        "name": "filestream_data_space_id"
                                    },
                                    {
                                        "name": "max_column_id_used"
                                    },
                                    {
                                        "name": "lock_on_bulk_load"
                                    },
                                    {
                                        "name": "uses_ansi_nulls"
                                    },
                                    {
                                        "name": "is_replicated"
                                    },
                                    {
                                        "name": "has_replication_filter"
                                    },
                                    {
                                        "name": "is_merge_published"
                                    },
                                    {
                                        "name": "is_sync_tran_subscribed"
                                    },
                                    {
                                        "name": "has_unchecked_assembly_data"
                                    },
                                    {
                                        "name": "text_in_row_limit"
                                    },
                                    {
                                        "name": "large_value_types_out_of_row"
                                    },
                                    {
                                        "name": "is_tracked_by_cdc"
                                    },
                                    {
                                        "name": "lock_escalation"
                                    },
                                    {
                                        "name": "lock_escalation_desc"
                                    },
                                    {
                                        "name": "is_filetable"
                                    },
                                    {
                                        "name": "is_memory_optimized"
                                    },
                                    {
                                        "name": "durability"
                                    },
                                    {
                                        "name": "durability_desc"
                                    },
                                    {
                                        "name": "temporal_type"
                                    },
                                    {
                                        "name": "temporal_type_desc"
                                    },
                                    {
                                        "name": "history_table_id"
                                    },
                                    {
                                        "name": "is_remote_data_archive_enabled"
                                    },
                                    {
                                        "name": "is_external"
                                    },
                                    {
                                        "name": "history_retention_period"
                                    },
                                    {
                                        "name": "history_retention_period_unit"
                                    },
                                    {
                                        "name": "history_retention_period_unit_desc"
                                    },
                                    {
                                        "name": "is_node"
                                    },
                                    {
                                        "name": "is_edge"
                                    }
                                ]
                            },
                            "data": [
                                {
                                    "0": "spt_fallback_db",
                                    "1": "117575457",
                                    "2": "NULL",
                                    "3": "1",
                                    "4": "0",
                                    "5": "U ",
                                    "6": "USER_TABLE",
                                    "7": "2003-04-08 09:18:01.557",
                                    "8": "2018-11-30 15:06:04.520",
                                    "9": "1",
                                    "10": "0",
                                    "11": "0",
                                    "12": "0",
                                    "13": "NULL",
                                    "14": "8",
                                    "15": "0",
                                    "16": "1",
                                    "17": "0",
                                    "18": "0",
                                    "19": "0",
                                    "20": "0",
                                    "21": "0",
                                    "22": "0",
                                    "23": "0",
                                    "24": "0",
                                    "25": "0",
                                    "26": "TABLE",
                                    "27": "0",
                                    "28": "0",
                                    "29": "0",
                                    "30": "SCHEMA_AND_DATA",
                                    "31": "0",
                                    "32": "NON_TEMPORAL_TABLE",
                                    "33": "NULL",
                                    "34": "0",
                                    "35": "0",
                                    "36": "NULL",
                                    "37": "NULL",
                                    "38": "NULL",
                                    "39": "0",
                                    "40": "0"
                                },
                                {
                                    "0": "spt_fallback_dev",
                                    "1": "133575514",
                                    "2": "NULL",
                                    "3": "1",
                                    "4": "0",
                                    "5": "U ",
                                    "6": "USER_TABLE",
                                    "7": "2003-04-08 09:18:02.870",
                                    "8": "2018-11-30 15:06:04.523",
                                    "9": "1",
                                    "10": "0",
                                    "11": "0",
                                    "12": "0",
                                    "13": "NULL",
                                    "14": "10",
                                    "15": "0",
                                    "16": "1",
                                    "17": "0",
                                    "18": "0",
                                    "19": "0",
                                    "20": "0",
                                    "21": "0",
                                    "22": "0",
                                    "23": "0",
                                    "24": "0",
                                    "25": "0",
                                    "26": "TABLE",
                                    "27": "0",
                                    "28": "0",
                                    "29": "0",
                                    "30": "SCHEMA_AND_DATA",
                                    "31": "0",
                                    "32": "NON_TEMPORAL_TABLE",
                                    "33": "NULL",
                                    "34": "0",
                                    "35": "0",
                                    "36": "NULL",
                                    "37": "NULL",
                                    "38": "NULL",
                                    "39": "0",
                                    "40": "0"
                                },
                                {
                                    "0": "spt_fallback_usg",
                                    "1": "149575571",
                                    "2": "NULL",
                                    "3": "1",
                                    "4": "0",
                                    "5": "U ",
                                    "6": "USER_TABLE",
                                    "7": "2003-04-08 09:18:04.180",
                                    "8": "2018-11-30 15:06:04.527",
                                    "9": "1",
                                    "10": "0",
                                    "11": "0",
                                    "12": "0",
                                    "13": "NULL",
                                    "14": "9",
                                    "15": "0",
                                    "16": "1",
                                    "17": "0",
                                    "18": "0",
                                    "19": "0",
                                    "20": "0",
                                    "21": "0",
                                    "22": "0",
                                    "23": "0",
                                    "24": "0",
                                    "25": "0",
                                    "26": "TABLE",
                                    "27": "0",
                                    "28": "0",
                                    "29": "0",
                                    "30": "SCHEMA_AND_DATA",
                                    "31": "0",
                                    "32": "NON_TEMPORAL_TABLE",
                                    "33": "NULL",
                                    "34": "0",
                                    "35": "0",
                                    "36": "NULL",
                                    "37": "NULL",
                                    "38": "NULL",
                                    "39": "0",
                                    "40": "0"
                                },
                                {
                                    "0": "Product",
                                    "1": "295672101",
                                    "2": "NULL",
                                    "3": "1",
                                    "4": "0",
                                    "5": "U ",
                                    "6": "USER_TABLE",
                                    "7": "2020-02-03 20:54:09.080",
                                    "8": "2020-02-03 20:54:09.080",
                                    "9": "0",
                                    "10": "0",
                                    "11": "0",
                                    "12": "0",
                                    "13": "NULL",
                                    "14": "3",
                                    "15": "0",
                                    "16": "1",
                                    "17": "0",
                                    "18": "0",
                                    "19": "0",
                                    "20": "0",
                                    "21": "0",
                                    "22": "0",
                                    "23": "0",
                                    "24": "0",
                                    "25": "0",
                                    "26": "TABLE",
                                    "27": "0",
                                    "28": "0",
                                    "29": "0",
                                    "30": "SCHEMA_AND_DATA",
                                    "31": "0",
                                    "32": "NON_TEMPORAL_TABLE",
                                    "33": "NULL",
                                    "34": "0",
                                    "35": "0",
                                    "36": "NULL",
                                    "37": "NULL",
                                    "38": "NULL",
                                    "39": "0",
                                    "40": "0"
                                },
                                {
                                    "0": "PC",
                                    "1": "327672215",
                                    "2": "NULL",
                                    "3": "1",
                                    "4": "0",
                                    "5": "U ",
                                    "6": "USER_TABLE",
                                    "7": "2020-02-03 21:03:19.830",
                                    "8": "2020-02-03 21:03:19.830",
                                    "9": "0",
                                    "10": "0",
                                    "11": "0",
                                    "12": "0",
                                    "13": "NULL",
                                    "14": "5",
                                    "15": "0",
                                    "16": "1",
                                    "17": "0",
                                    "18": "0",
                                    "19": "0",
                                    "20": "0",
                                    "21": "0",
                                    "22": "0",
                                    "23": "0",
                                    "24": "0",
                                    "25": "0",
                                    "26": "TABLE",
                                    "27": "0",
                                    "28": "0",
                                    "29": "0",
                                    "30": "SCHEMA_AND_DATA",
                                    "31": "0",
                                    "32": "NON_TEMPORAL_TABLE",
                                    "33": "NULL",
                                    "34": "0",
                                    "35": "0",
                                    "36": "NULL",
                                    "37": "NULL",
                                    "38": "NULL",
                                    "39": "0",
                                    "40": "0"
                                },
                                {
                                    "0": "Laptop",
                                    "1": "359672329",
                                    "2": "NULL",
                                    "3": "1",
                                    "4": "0",
                                    "5": "U ",
                                    "6": "USER_TABLE",
                                    "7": "2020-02-03 21:03:19.843",
                                    "8": "2020-02-03 21:03:19.843",
                                    "9": "0",
                                    "10": "0",
                                    "11": "0",
                                    "12": "0",
                                    "13": "NULL",
                                    "14": "6",
                                    "15": "0",
                                    "16": "1",
                                    "17": "0",
                                    "18": "0",
                                    "19": "0",
                                    "20": "0",
                                    "21": "0",
                                    "22": "0",
                                    "23": "0",
                                    "24": "0",
                                    "25": "0",
                                    "26": "TABLE",
                                    "27": "0",
                                    "28": "0",
                                    "29": "0",
                                    "30": "SCHEMA_AND_DATA",
                                    "31": "0",
                                    "32": "NON_TEMPORAL_TABLE",
                                    "33": "NULL",
                                    "34": "0",
                                    "35": "0",
                                    "36": "NULL",
                                    "37": "NULL",
                                    "38": "NULL",
                                    "39": "0",
                                    "40": "0"
                                },
                                {
                                    "0": "Printer",
                                    "1": "391672443",
                                    "2": "NULL",
                                    "3": "1",
                                    "4": "0",
                                    "5": "U ",
                                    "6": "USER_TABLE",
                                    "7": "2020-02-03 21:03:19.847",
                                    "8": "2020-02-03 21:03:19.847",
                                    "9": "0",
                                    "10": "0",
                                    "11": "0",
                                    "12": "0",
                                    "13": "NULL",
                                    "14": "4",
                                    "15": "0",
                                    "16": "1",
                                    "17": "0",
                                    "18": "0",
                                    "19": "0",
                                    "20": "0",
                                    "21": "0",
                                    "22": "0",
                                    "23": "0",
                                    "24": "0",
                                    "25": "0",
                                    "26": "TABLE",
                                    "27": "0",
                                    "28": "0",
                                    "29": "0",
                                    "30": "SCHEMA_AND_DATA",
                                    "31": "0",
                                    "32": "NON_TEMPORAL_TABLE",
                                    "33": "NULL",
                                    "34": "0",
                                    "35": "0",
                                    "36": "NULL",
                                    "37": "NULL",
                                    "38": "NULL",
                                    "39": "0",
                                    "40": "0"
                                },
                                {
                                    "0": "spt_monitor",
                                    "1": "1803153469",
                                    "2": "NULL",
                                    "3": "1",
                                    "4": "0",
                                    "5": "U ",
                                    "6": "USER_TABLE",
                                    "7": "2018-11-30 15:04:02.047",
                                    "8": "2018-11-30 15:06:04.533",
                                    "9": "1",
                                    "10": "0",
                                    "11": "0",
                                    "12": "0",
                                    "13": "NULL",
                                    "14": "11",
                                    "15": "0",
                                    "16": "1",
                                    "17": "0",
                                    "18": "0",
                                    "19": "0",
                                    "20": "0",
                                    "21": "0",
                                    "22": "0",
                                    "23": "0",
                                    "24": "0",
                                    "25": "0",
                                    "26": "TABLE",
                                    "27": "0",
                                    "28": "0",
                                    "29": "0",
                                    "30": "SCHEMA_AND_DATA",
                                    "31": "0",
                                    "32": "NON_TEMPORAL_TABLE",
                                    "33": "NULL",
                                    "34": "0",
                                    "35": "0",
                                    "36": "NULL",
                                    "37": "NULL",
                                    "38": "NULL",
                                    "39": "0",
                                    "40": "0"
                                },
                                {
                                    "0": "MSreplication_options",
                                    "1": "2107154552",
                                    "2": "NULL",
                                    "3": "1",
                                    "4": "0",
                                    "5": "U ",
                                    "6": "USER_TABLE",
                                    "7": "2018-11-30 15:05:09.220",
                                    "8": "2018-11-30 15:06:04.533",
                                    "9": "1",
                                    "10": "0",
                                    "11": "0",
                                    "12": "0",
                                    "13": "NULL",
                                    "14": "6",
                                    "15": "0",
                                    "16": "0",
                                    "17": "0",
                                    "18": "0",
                                    "19": "0",
                                    "20": "0",
                                    "21": "0",
                                    "22": "0",
                                    "23": "0",
                                    "24": "0",
                                    "25": "0",
                                    "26": "TABLE",
                                    "27": "0",
                                    "28": "0",
                                    "29": "0",
                                    "30": "SCHEMA_AND_DATA",
                                    "31": "0",
                                    "32": "NON_TEMPORAL_TABLE",
                                    "33": "NULL",
                                    "34": "0",
                                    "35": "0",
                                    "36": "NULL",
                                    "37": "NULL",
                                    "38": "NULL",
                                    "39": "0",
                                    "40": "0"
                                }
                            ]
                        },
                        "text/html": "<table><tr><th>name</th><th>object_id</th><th>principal_id</th><th>schema_id</th><th>parent_object_id</th><th>type</th><th>type_desc</th><th>create_date</th><th>modify_date</th><th>is_ms_shipped</th><th>is_published</th><th>is_schema_published</th><th>lob_data_space_id</th><th>filestream_data_space_id</th><th>max_column_id_used</th><th>lock_on_bulk_load</th><th>uses_ansi_nulls</th><th>is_replicated</th><th>has_replication_filter</th><th>is_merge_published</th><th>is_sync_tran_subscribed</th><th>has_unchecked_assembly_data</th><th>text_in_row_limit</th><th>large_value_types_out_of_row</th><th>is_tracked_by_cdc</th><th>lock_escalation</th><th>lock_escalation_desc</th><th>is_filetable</th><th>is_memory_optimized</th><th>durability</th><th>durability_desc</th><th>temporal_type</th><th>temporal_type_desc</th><th>history_table_id</th><th>is_remote_data_archive_enabled</th><th>is_external</th><th>history_retention_period</th><th>history_retention_period_unit</th><th>history_retention_period_unit_desc</th><th>is_node</th><th>is_edge</th></tr><tr><td>spt_fallback_db</td><td>117575457</td><td>NULL</td><td>1</td><td>0</td><td>U </td><td>USER_TABLE</td><td>2003-04-08 09:18:01.557</td><td>2018-11-30 15:06:04.520</td><td>1</td><td>0</td><td>0</td><td>0</td><td>NULL</td><td>8</td><td>0</td><td>1</td><td>0</td><td>0</td><td>0</td><td>0</td><td>0</td><td>0</td><td>0</td><td>0</td><td>0</td><td>TABLE</td><td>0</td><td>0</td><td>0</td><td>SCHEMA_AND_DATA</td><td>0</td><td>NON_TEMPORAL_TABLE</td><td>NULL</td><td>0</td><td>0</td><td>NULL</td><td>NULL</td><td>NULL</td><td>0</td><td>0</td></tr><tr><td>spt_fallback_dev</td><td>133575514</td><td>NULL</td><td>1</td><td>0</td><td>U </td><td>USER_TABLE</td><td>2003-04-08 09:18:02.870</td><td>2018-11-30 15:06:04.523</td><td>1</td><td>0</td><td>0</td><td>0</td><td>NULL</td><td>10</td><td>0</td><td>1</td><td>0</td><td>0</td><td>0</td><td>0</td><td>0</td><td>0</td><td>0</td><td>0</td><td>0</td><td>TABLE</td><td>0</td><td>0</td><td>0</td><td>SCHEMA_AND_DATA</td><td>0</td><td>NON_TEMPORAL_TABLE</td><td>NULL</td><td>0</td><td>0</td><td>NULL</td><td>NULL</td><td>NULL</td><td>0</td><td>0</td></tr><tr><td>spt_fallback_usg</td><td>149575571</td><td>NULL</td><td>1</td><td>0</td><td>U </td><td>USER_TABLE</td><td>2003-04-08 09:18:04.180</td><td>2018-11-30 15:06:04.527</td><td>1</td><td>0</td><td>0</td><td>0</td><td>NULL</td><td>9</td><td>0</td><td>1</td><td>0</td><td>0</td><td>0</td><td>0</td><td>0</td><td>0</td><td>0</td><td>0</td><td>0</td><td>TABLE</td><td>0</td><td>0</td><td>0</td><td>SCHEMA_AND_DATA</td><td>0</td><td>NON_TEMPORAL_TABLE</td><td>NULL</td><td>0</td><td>0</td><td>NULL</td><td>NULL</td><td>NULL</td><td>0</td><td>0</td></tr><tr><td>Product</td><td>295672101</td><td>NULL</td><td>1</td><td>0</td><td>U </td><td>USER_TABLE</td><td>2020-02-03 20:54:09.080</td><td>2020-02-03 20:54:09.080</td><td>0</td><td>0</td><td>0</td><td>0</td><td>NULL</td><td>3</td><td>0</td><td>1</td><td>0</td><td>0</td><td>0</td><td>0</td><td>0</td><td>0</td><td>0</td><td>0</td><td>0</td><td>TABLE</td><td>0</td><td>0</td><td>0</td><td>SCHEMA_AND_DATA</td><td>0</td><td>NON_TEMPORAL_TABLE</td><td>NULL</td><td>0</td><td>0</td><td>NULL</td><td>NULL</td><td>NULL</td><td>0</td><td>0</td></tr><tr><td>PC</td><td>327672215</td><td>NULL</td><td>1</td><td>0</td><td>U </td><td>USER_TABLE</td><td>2020-02-03 21:03:19.830</td><td>2020-02-03 21:03:19.830</td><td>0</td><td>0</td><td>0</td><td>0</td><td>NULL</td><td>5</td><td>0</td><td>1</td><td>0</td><td>0</td><td>0</td><td>0</td><td>0</td><td>0</td><td>0</td><td>0</td><td>0</td><td>TABLE</td><td>0</td><td>0</td><td>0</td><td>SCHEMA_AND_DATA</td><td>0</td><td>NON_TEMPORAL_TABLE</td><td>NULL</td><td>0</td><td>0</td><td>NULL</td><td>NULL</td><td>NULL</td><td>0</td><td>0</td></tr><tr><td>Laptop</td><td>359672329</td><td>NULL</td><td>1</td><td>0</td><td>U </td><td>USER_TABLE</td><td>2020-02-03 21:03:19.843</td><td>2020-02-03 21:03:19.843</td><td>0</td><td>0</td><td>0</td><td>0</td><td>NULL</td><td>6</td><td>0</td><td>1</td><td>0</td><td>0</td><td>0</td><td>0</td><td>0</td><td>0</td><td>0</td><td>0</td><td>0</td><td>TABLE</td><td>0</td><td>0</td><td>0</td><td>SCHEMA_AND_DATA</td><td>0</td><td>NON_TEMPORAL_TABLE</td><td>NULL</td><td>0</td><td>0</td><td>NULL</td><td>NULL</td><td>NULL</td><td>0</td><td>0</td></tr><tr><td>Printer</td><td>391672443</td><td>NULL</td><td>1</td><td>0</td><td>U </td><td>USER_TABLE</td><td>2020-02-03 21:03:19.847</td><td>2020-02-03 21:03:19.847</td><td>0</td><td>0</td><td>0</td><td>0</td><td>NULL</td><td>4</td><td>0</td><td>1</td><td>0</td><td>0</td><td>0</td><td>0</td><td>0</td><td>0</td><td>0</td><td>0</td><td>0</td><td>TABLE</td><td>0</td><td>0</td><td>0</td><td>SCHEMA_AND_DATA</td><td>0</td><td>NON_TEMPORAL_TABLE</td><td>NULL</td><td>0</td><td>0</td><td>NULL</td><td>NULL</td><td>NULL</td><td>0</td><td>0</td></tr><tr><td>spt_monitor</td><td>1803153469</td><td>NULL</td><td>1</td><td>0</td><td>U </td><td>USER_TABLE</td><td>2018-11-30 15:04:02.047</td><td>2018-11-30 15:06:04.533</td><td>1</td><td>0</td><td>0</td><td>0</td><td>NULL</td><td>11</td><td>0</td><td>1</td><td>0</td><td>0</td><td>0</td><td>0</td><td>0</td><td>0</td><td>0</td><td>0</td><td>0</td><td>TABLE</td><td>0</td><td>0</td><td>0</td><td>SCHEMA_AND_DATA</td><td>0</td><td>NON_TEMPORAL_TABLE</td><td>NULL</td><td>0</td><td>0</td><td>NULL</td><td>NULL</td><td>NULL</td><td>0</td><td>0</td></tr><tr><td>MSreplication_options</td><td>2107154552</td><td>NULL</td><td>1</td><td>0</td><td>U </td><td>USER_TABLE</td><td>2018-11-30 15:05:09.220</td><td>2018-11-30 15:06:04.533</td><td>1</td><td>0</td><td>0</td><td>0</td><td>NULL</td><td>6</td><td>0</td><td>0</td><td>0</td><td>0</td><td>0</td><td>0</td><td>0</td><td>0</td><td>0</td><td>0</td><td>0</td><td>TABLE</td><td>0</td><td>0</td><td>0</td><td>SCHEMA_AND_DATA</td><td>0</td><td>NON_TEMPORAL_TABLE</td><td>NULL</td><td>0</td><td>0</td><td>NULL</td><td>NULL</td><td>NULL</td><td>0</td><td>0</td></tr></table>"
                    },
                    "metadata": {}
                }
            ],
            "execution_count": 1
        },
        {
            "cell_type": "markdown",
            "source": [
                "# b)"
            ],
            "metadata": {
                "azdata_cell_guid": "f61be764-e69d-424f-b750-6ee69dec70fb"
            }
        },
        {
            "cell_type": "code",
            "source": [
                "select maker from Product\n",
                "    where model in \n",
                "    (\n",
                "        select distinct model from Laptop\n",
                "            where hd >= 100\n",
                "    );"
            ],
            "metadata": {
                "azdata_cell_guid": "79a8dedb-672f-42c6-b6cb-54020c4fe335",
                "tags": [
                    "hide_input"
                ]
            },
            "outputs": [
                {
                    "output_type": "display_data",
                    "data": {
                        "text/html": "(5 rows affected)"
                    },
                    "metadata": {}
                },
                {
                    "output_type": "display_data",
                    "data": {
                        "text/html": "Total execution time: 00:00:00.007"
                    },
                    "metadata": {}
                },
                {
                    "output_type": "execute_result",
                    "metadata": {},
                    "execution_count": 53,
                    "data": {
                        "application/vnd.dataresource+json": {
                            "schema": {
                                "fields": [
                                    {
                                        "name": "maker"
                                    }
                                ]
                            },
                            "data": [
                                {
                                    "0": "E"
                                },
                                {
                                    "0": "A"
                                },
                                {
                                    "0": "B"
                                },
                                {
                                    "0": "F"
                                },
                                {
                                    "0": "G"
                                }
                            ]
                        },
                        "text/html": "<table><tr><th>maker</th></tr><tr><td>E</td></tr><tr><td>A</td></tr><tr><td>B</td></tr><tr><td>F</td></tr><tr><td>G</td></tr></table>"
                    }
                }
            ],
            "execution_count": 53
        },
        {
            "cell_type": "markdown",
            "source": [
                "# e)"
            ],
            "metadata": {
                "azdata_cell_guid": "6b4fb582-8a0e-4a1e-9e93-17bb7f37fc5d"
            }
        },
        {
            "cell_type": "code",
            "source": [
                "select distinct maker FROM Product\n",
                "    where maker in \n",
                "    (\n",
                "        select maker from Product \n",
                "            where model in (select model from Laptop)\n",
                "    )\n",
                "    and \n",
                "    maker not in \n",
                "    (\n",
                "        select maker from Product \n",
                "            where model in (select model from PC)\n",
                "    );"
            ],
            "metadata": {
                "azdata_cell_guid": "fbc04ce9-5949-4e84-b96a-ba6bf33d687f",
                "tags": []
            },
            "outputs": [
                {
                    "output_type": "display_data",
                    "data": {
                        "text/html": "(2 rows affected)"
                    },
                    "metadata": {}
                },
                {
                    "output_type": "display_data",
                    "data": {
                        "text/html": "Total execution time: 00:00:00.026"
                    },
                    "metadata": {}
                },
                {
                    "output_type": "execute_result",
                    "metadata": {},
                    "execution_count": 54,
                    "data": {
                        "application/vnd.dataresource+json": {
                            "schema": {
                                "fields": [
                                    {
                                        "name": "maker"
                                    }
                                ]
                            },
                            "data": [
                                {
                                    "0": "F"
                                },
                                {
                                    "0": "G"
                                }
                            ]
                        },
                        "text/html": "<table><tr><th>maker</th></tr><tr><td>F</td></tr><tr><td>G</td></tr></table>"
                    }
                }
            ],
            "execution_count": 54
        },
        {
            "cell_type": "markdown",
            "source": [
                "# g)"
            ],
            "metadata": {
                "azdata_cell_guid": "2e5f9db1-4d92-41d0-a11d-459cd1f75a95"
            }
        },
        {
            "cell_type": "code",
            "source": [
                "select distinct pc1.model, pc2.model \n",
                "    from PC pc1, PC pc2 \n",
                "    where pc1.speed = pc2.speed\n",
                "        and pc1.ram = pc2.ram\n",
                "        and pc1.model != pc2.model\n",
                "        and pc1.model < pc2.model;"
            ],
            "metadata": {
                "azdata_cell_guid": "4e4a9382-e234-4e86-b7b7-ac4013747779"
            },
            "outputs": [
                {
                    "output_type": "display_data",
                    "data": {
                        "text/html": "(1 row affected)"
                    },
                    "metadata": {}
                },
                {
                    "output_type": "display_data",
                    "data": {
                        "text/html": "Total execution time: 00:00:00.008"
                    },
                    "metadata": {}
                },
                {
                    "output_type": "execute_result",
                    "metadata": {},
                    "execution_count": 18,
                    "data": {
                        "application/vnd.dataresource+json": {
                            "schema": {
                                "fields": [
                                    {
                                        "name": "model"
                                    },
                                    {
                                        "name": "model"
                                    }
                                ]
                            },
                            "data": [
                                {
                                    "0": "1004",
                                    "1": "1012"
                                }
                            ]
                        },
                        "text/html": "<table><tr><th>model</th><th>model</th></tr><tr><td>1004</td><td>1012</td></tr></table>"
                    }
                }
            ],
            "execution_count": 18
        },
        {
            "cell_type": "markdown",
            "source": [
                "# i)"
            ],
            "metadata": {
                "azdata_cell_guid": "da919870-5674-4c36-948c-9b3318b2f5dd"
            }
        },
        {
            "cell_type": "code",
            "source": [
                "select maker \n",
                "    from Product\n",
                "    WHERE model = \n",
                "        (\n",
                "            select top 1 model\n",
                "                from  \n",
                "                (\n",
                "                    select model, speed from PC \n",
                "                    UNION\n",
                "                    select model, speed from Laptop\n",
                "                ) as all_models\n",
                "                order by speed desc\n",
                "        );"
            ],
            "metadata": {
                "azdata_cell_guid": "f19de5cf-a771-4788-8a07-a3f01ac1548c",
                "tags": []
            },
            "outputs": [
                {
                    "output_type": "display_data",
                    "data": {
                        "text/html": "(1 row affected)"
                    },
                    "metadata": {}
                },
                {
                    "output_type": "display_data",
                    "data": {
                        "text/html": "Total execution time: 00:00:00.007"
                    },
                    "metadata": {}
                },
                {
                    "output_type": "execute_result",
                    "metadata": {},
                    "execution_count": 44,
                    "data": {
                        "application/vnd.dataresource+json": {
                            "schema": {
                                "fields": [
                                    {
                                        "name": "maker"
                                    }
                                ]
                            },
                            "data": [
                                {
                                    "0": "A"
                                }
                            ]
                        },
                        "text/html": "<table><tr><th>maker</th></tr><tr><td>A</td></tr></table>"
                    }
                }
            ],
            "execution_count": 44
        },
        {
            "cell_type": "code",
            "source": [
                "select * from product where model = 1001"
            ],
            "metadata": {
                "azdata_cell_guid": "7274bb0a-5d79-4885-b8e4-89742a32f70b"
            },
            "outputs": [
                {
                    "output_type": "display_data",
                    "data": {
                        "text/html": "(1 row affected)"
                    },
                    "metadata": {}
                },
                {
                    "output_type": "display_data",
                    "data": {
                        "text/html": "Total execution time: 00:00:00.006"
                    },
                    "metadata": {}
                },
                {
                    "output_type": "execute_result",
                    "metadata": {},
                    "execution_count": 52,
                    "data": {
                        "application/vnd.dataresource+json": {
                            "schema": {
                                "fields": [
                                    {
                                        "name": "maker"
                                    },
                                    {
                                        "name": "model"
                                    },
                                    {
                                        "name": "type"
                                    }
                                ]
                            },
                            "data": [
                                {
                                    "0": "A",
                                    "1": "1001",
                                    "2": "pc"
                                }
                            ]
                        },
                        "text/html": "<table><tr><th>maker</th><th>model</th><th>type</th></tr><tr><td>A</td><td>1001</td><td>pc</td></tr></table>"
                    }
                }
            ],
            "execution_count": 52
        }
    ]
}