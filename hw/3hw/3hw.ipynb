{
    "metadata": {
        "kernelspec": {
            "name": "SQL",
            "display_name": "SQL",
            "language": "sql"
        },
        "language_info": {
            "name": "sql",
            "version": ""
        }
    },
    "nbformat_minor": 2,
    "nbformat": 4,
    "cells": [
        {
            "cell_type": "code",
            "source": [
                "\n",
                "-- Create the table in the specified schema\n",
                "CREATE TABLE [HW3_R]\n",
                "(\n",
                "    [key] INT NOT NULL PRIMARY KEY, -- Primary Key column\n",
                "    [name] NVARCHAR(50),\n",
                "    [joinKey1] INT\n",
                "    -- Specify more columns here\n",
                ");\n",
                ""
            ],
            "metadata": {
                "azdata_cell_guid": "696dfad5-7707-4f55-b134-60951ef23dbc"
            },
            "outputs": [
                {
                    "output_type": "display_data",
                    "data": {
                        "text/html": "Commands completed successfully."
                    },
                    "metadata": {}
                },
                {
                    "output_type": "display_data",
                    "data": {
                        "text/html": "Total execution time: 00:00:00.018"
                    },
                    "metadata": {}
                }
            ],
            "execution_count": 1
        },
        {
            "cell_type": "code",
            "source": [
                "-- Create the table in the specified schema\n",
                "CREATE TABLE [HW3_S]\n",
                "(\n",
                "    [key] INT NOT NULL PRIMARY KEY, -- Primary Key column\n",
                "    [romanNumeral] NVARCHAR(10),\n",
                "    [joinKey2] INT\n",
                "    -- Specify more columns here\n",
                ");\n",
                ""
            ],
            "metadata": {
                "azdata_cell_guid": "cb65516c-0fd1-4989-b106-22a8d33433e6"
            },
            "outputs": [
                {
                    "output_type": "display_data",
                    "data": {
                        "text/html": "Commands completed successfully."
                    },
                    "metadata": {}
                },
                {
                    "output_type": "display_data",
                    "data": {
                        "text/html": "Total execution time: 00:00:00.013"
                    },
                    "metadata": {}
                }
            ],
            "execution_count": 7
        },
        {
            "cell_type": "code",
            "source": [
                "-- Insert rows into table 'TableName' in schema '[dbo]'\n",
                "INSERT INTO [HW3_R]\n",
                "( -- Columns to insert data into\n",
                " [key], [name], [joinKey1]\n",
                ")\n",
                "VALUES\n",
                "( -- First row: values for the columns in the list above\n",
                " 1, 'Andrea', 101\n",
                "),\n",
                "( -- Second row: values for the columns in the list above\n",
                " 2, 'David', null\n",
                "),\n",
                "( -- Second row: values for the columns in the list above\n",
                " 3, 'David', null\n",
                "),\n",
                "( -- Second row: values for the columns in the list above\n",
                " 4, 'Dan', null\n",
                "),\n",
                "( -- Second row: values for the columns in the list above\n",
                " 5, 'John', 106\n",
                ")\n",
                "-- Add more rows here\n",
                ""
            ],
            "metadata": {
                "azdata_cell_guid": "e9effa2f-0c05-4523-aa5c-1eb18ad7dddc"
            },
            "outputs": [
                {
                    "output_type": "display_data",
                    "data": {
                        "text/html": "(5 rows affected)"
                    },
                    "metadata": {}
                },
                {
                    "output_type": "display_data",
                    "data": {
                        "text/html": "Total execution time: 00:00:00.007"
                    },
                    "metadata": {}
                }
            ],
            "execution_count": 12
        },
        {
            "cell_type": "code",
            "source": [
                "-- Insert rows into table 'TableName' in schema '[dbo]'\n",
                "INSERT INTO [HW3_S]\n",
                "( -- Columns to insert data into\n",
                " [key], [romanNumeral], [joinKey2]\n",
                ")\n",
                "VALUES\n",
                "( -- First row: values for the columns in the list above\n",
                " 6, 'V', 101\n",
                "),\n",
                "( -- Second row: values for the columns in the list above\n",
                " 7, 'X', null\n",
                "),\n",
                "( -- Second row: values for the columns in the list above\n",
                " 8, 'L', 105\n",
                ")"
            ],
            "metadata": {
                "azdata_cell_guid": "c23653e4-a1fd-4862-be1f-e2b35cffd503"
            },
            "outputs": [
                {
                    "output_type": "error",
                    "ename": "",
                    "evalue": "Msg 2627, Level 14, State 1, Line 2\nViolation of PRIMARY KEY constraint 'PK__HW3_S__DFD83CAEC617823B'. Cannot insert duplicate key in object 'dbo.HW3_S'. The duplicate key value is (6).",
                    "traceback": []
                },
                {
                    "output_type": "display_data",
                    "data": {
                        "text/html": "The statement has been terminated."
                    },
                    "metadata": {}
                },
                {
                    "output_type": "display_data",
                    "data": {
                        "text/html": "Total execution time: 00:00:00.004"
                    },
                    "metadata": {}
                }
            ],
            "execution_count": 17
        },
        {
            "cell_type": "code",
            "source": [
                "select * from HW3_S"
            ],
            "metadata": {
                "azdata_cell_guid": "e8723ef5-d328-49fa-8d6f-9cba3c84fe31"
            },
            "outputs": [
                {
                    "output_type": "display_data",
                    "data": {
                        "text/html": "(3 rows affected)"
                    },
                    "metadata": {}
                },
                {
                    "output_type": "display_data",
                    "data": {
                        "text/html": "Total execution time: 00:00:00.006"
                    },
                    "metadata": {}
                },
                {
                    "output_type": "execute_result",
                    "execution_count": 18,
                    "data": {
                        "application/vnd.dataresource+json": {
                            "schema": {
                                "fields": [
                                    {
                                        "name": "key"
                                    },
                                    {
                                        "name": "romanNumeral"
                                    },
                                    {
                                        "name": "joinKey2"
                                    }
                                ]
                            },
                            "data": [
                                {
                                    "0": "6",
                                    "1": "V",
                                    "2": "101"
                                },
                                {
                                    "0": "7",
                                    "1": "X",
                                    "2": "NULL"
                                },
                                {
                                    "0": "8",
                                    "1": "L",
                                    "2": "105"
                                }
                            ]
                        },
                        "text/html": "<table><tr><th>key</th><th>romanNumeral</th><th>joinKey2</th></tr><tr><td>6</td><td>V</td><td>101</td></tr><tr><td>7</td><td>X</td><td>NULL</td></tr><tr><td>8</td><td>L</td><td>105</td></tr></table>"
                    },
                    "metadata": {}
                }
            ],
            "execution_count": 18
        },
        {
            "cell_type": "markdown",
            "source": [
                "# i."
            ],
            "metadata": {
                "azdata_cell_guid": "aa12b1e8-6761-4196-9850-c02632962b54"
            }
        },
        {
            "cell_type": "code",
            "source": [
                "select * from HW3_R where joinKey1 = 101;"
            ],
            "metadata": {
                "azdata_cell_guid": "f9a828a6-d684-4ea8-bac2-d53086ef00a0"
            },
            "outputs": [
                {
                    "output_type": "display_data",
                    "data": {
                        "text/html": "(1 row affected)"
                    },
                    "metadata": {}
                },
                {
                    "output_type": "display_data",
                    "data": {
                        "text/html": "Total execution time: 00:00:00.005"
                    },
                    "metadata": {}
                },
                {
                    "output_type": "execute_result",
                    "execution_count": 57,
                    "data": {
                        "application/vnd.dataresource+json": {
                            "schema": {
                                "fields": [
                                    {
                                        "name": "key"
                                    },
                                    {
                                        "name": "name"
                                    },
                                    {
                                        "name": "joinKey1"
                                    }
                                ]
                            },
                            "data": [
                                {
                                    "0": "1",
                                    "1": "Andrea",
                                    "2": "101"
                                }
                            ]
                        },
                        "text/html": "<table><tr><th>key</th><th>name</th><th>joinKey1</th></tr><tr><td>1</td><td>Andrea</td><td>101</td></tr></table>"
                    },
                    "metadata": {}
                }
            ],
            "execution_count": 57
        },
        {
            "cell_type": "markdown",
            "source": [
                "# ii."
            ],
            "metadata": {
                "azdata_cell_guid": "306dff31-233e-4143-adf1-699b1e385c85"
            }
        },
        {
            "cell_type": "code",
            "source": [
                "select * from HW3_R where joinKey1 != 101"
            ],
            "metadata": {
                "azdata_cell_guid": "d2e119fc-2333-44d0-89c5-b31f7761c213"
            },
            "outputs": [
                {
                    "output_type": "display_data",
                    "data": {
                        "text/html": "(1 row affected)"
                    },
                    "metadata": {}
                },
                {
                    "output_type": "display_data",
                    "data": {
                        "text/html": "Total execution time: 00:00:00.006"
                    },
                    "metadata": {}
                },
                {
                    "output_type": "execute_result",
                    "execution_count": 58,
                    "data": {
                        "application/vnd.dataresource+json": {
                            "schema": {
                                "fields": [
                                    {
                                        "name": "key"
                                    },
                                    {
                                        "name": "name"
                                    },
                                    {
                                        "name": "joinKey1"
                                    }
                                ]
                            },
                            "data": [
                                {
                                    "0": "5",
                                    "1": "John",
                                    "2": "106"
                                }
                            ]
                        },
                        "text/html": "<table><tr><th>key</th><th>name</th><th>joinKey1</th></tr><tr><td>5</td><td>John</td><td>106</td></tr></table>"
                    },
                    "metadata": {}
                }
            ],
            "execution_count": 58
        },
        {
            "cell_type": "markdown",
            "source": [
                "# iii."
            ],
            "metadata": {
                "azdata_cell_guid": "1286a49b-7928-454c-91a8-4526e48f3deb"
            }
        },
        {
            "cell_type": "code",
            "source": [
                "select * from HW3_R where joinKey1 is null"
            ],
            "metadata": {
                "azdata_cell_guid": "334df2fa-0054-4148-9730-fab25c84ad01"
            },
            "outputs": [
                {
                    "output_type": "display_data",
                    "data": {
                        "text/html": "(3 rows affected)"
                    },
                    "metadata": {}
                },
                {
                    "output_type": "display_data",
                    "data": {
                        "text/html": "Total execution time: 00:00:00.006"
                    },
                    "metadata": {}
                },
                {
                    "output_type": "execute_result",
                    "execution_count": 59,
                    "data": {
                        "application/vnd.dataresource+json": {
                            "schema": {
                                "fields": [
                                    {
                                        "name": "key"
                                    },
                                    {
                                        "name": "name"
                                    },
                                    {
                                        "name": "joinKey1"
                                    }
                                ]
                            },
                            "data": [
                                {
                                    "0": "2",
                                    "1": "David",
                                    "2": "NULL"
                                },
                                {
                                    "0": "3",
                                    "1": "David",
                                    "2": "NULL"
                                },
                                {
                                    "0": "4",
                                    "1": "Dan",
                                    "2": "NULL"
                                }
                            ]
                        },
                        "text/html": "<table><tr><th>key</th><th>name</th><th>joinKey1</th></tr><tr><td>2</td><td>David</td><td>NULL</td></tr><tr><td>3</td><td>David</td><td>NULL</td></tr><tr><td>4</td><td>Dan</td><td>NULL</td></tr></table>"
                    },
                    "metadata": {}
                }
            ],
            "execution_count": 59
        },
        {
            "cell_type": "markdown",
            "source": [
                "# iv."
            ],
            "metadata": {
                "azdata_cell_guid": "c449647a-703c-4673-90e8-98d8749ab079"
            }
        },
        {
            "cell_type": "code",
            "source": [
                "select [name], joinKey1 from HW3_R"
            ],
            "metadata": {
                "azdata_cell_guid": "700d3392-07ed-4d66-8414-af7308ce4da7"
            },
            "outputs": [
                {
                    "output_type": "display_data",
                    "data": {
                        "text/html": "(5 rows affected)"
                    },
                    "metadata": {}
                },
                {
                    "output_type": "display_data",
                    "data": {
                        "text/html": "Total execution time: 00:00:00.007"
                    },
                    "metadata": {}
                },
                {
                    "output_type": "execute_result",
                    "execution_count": 60,
                    "data": {
                        "application/vnd.dataresource+json": {
                            "schema": {
                                "fields": [
                                    {
                                        "name": "name"
                                    },
                                    {
                                        "name": "joinKey1"
                                    }
                                ]
                            },
                            "data": [
                                {
                                    "0": "Andrea",
                                    "1": "101"
                                },
                                {
                                    "0": "David",
                                    "1": "NULL"
                                },
                                {
                                    "0": "David",
                                    "1": "NULL"
                                },
                                {
                                    "0": "Dan",
                                    "1": "NULL"
                                },
                                {
                                    "0": "John",
                                    "1": "106"
                                }
                            ]
                        },
                        "text/html": "<table><tr><th>name</th><th>joinKey1</th></tr><tr><td>Andrea</td><td>101</td></tr><tr><td>David</td><td>NULL</td></tr><tr><td>David</td><td>NULL</td></tr><tr><td>Dan</td><td>NULL</td></tr><tr><td>John</td><td>106</td></tr></table>"
                    },
                    "metadata": {}
                }
            ],
            "execution_count": 60
        },
        {
            "cell_type": "markdown",
            "source": [
                "# v."
            ],
            "metadata": {
                "azdata_cell_guid": "f8e11f22-2623-48da-9940-88cd0bc40ab9"
            }
        },
        {
            "cell_type": "code",
            "source": [
                "select joinKey1 from HW3_R"
            ],
            "metadata": {
                "azdata_cell_guid": "ed8016e7-c03d-492d-8336-62581d029481"
            },
            "outputs": [
                {
                    "output_type": "display_data",
                    "data": {
                        "text/html": "(5 rows affected)"
                    },
                    "metadata": {}
                },
                {
                    "output_type": "display_data",
                    "data": {
                        "text/html": "Total execution time: 00:00:00.004"
                    },
                    "metadata": {}
                },
                {
                    "output_type": "execute_result",
                    "execution_count": 61,
                    "data": {
                        "application/vnd.dataresource+json": {
                            "schema": {
                                "fields": [
                                    {
                                        "name": "joinKey1"
                                    }
                                ]
                            },
                            "data": [
                                {
                                    "0": "101"
                                },
                                {
                                    "0": "NULL"
                                },
                                {
                                    "0": "NULL"
                                },
                                {
                                    "0": "NULL"
                                },
                                {
                                    "0": "106"
                                }
                            ]
                        },
                        "text/html": "<table><tr><th>joinKey1</th></tr><tr><td>101</td></tr><tr><td>NULL</td></tr><tr><td>NULL</td></tr><tr><td>NULL</td></tr><tr><td>106</td></tr></table>"
                    },
                    "metadata": {}
                }
            ],
            "execution_count": 61
        },
        {
            "cell_type": "markdown",
            "source": [
                "# vi."
            ],
            "metadata": {
                "azdata_cell_guid": "ad7dd1ca-4b90-4860-b3ec-0315d7503fd5"
            }
        },
        {
            "cell_type": "code",
            "source": [
                "select * from HW3_R join HW3_S on joinKey1 = joinKey2"
            ],
            "metadata": {
                "azdata_cell_guid": "1189f0e5-0d08-4c0a-a0bf-a7fc920a45a3"
            },
            "outputs": [
                {
                    "output_type": "display_data",
                    "data": {
                        "text/html": "(1 row affected)"
                    },
                    "metadata": {}
                },
                {
                    "output_type": "display_data",
                    "data": {
                        "text/html": "Total execution time: 00:00:00.011"
                    },
                    "metadata": {}
                },
                {
                    "output_type": "execute_result",
                    "execution_count": 62,
                    "data": {
                        "application/vnd.dataresource+json": {
                            "schema": {
                                "fields": [
                                    {
                                        "name": "key"
                                    },
                                    {
                                        "name": "name"
                                    },
                                    {
                                        "name": "joinKey1"
                                    },
                                    {
                                        "name": "key"
                                    },
                                    {
                                        "name": "romanNumeral"
                                    },
                                    {
                                        "name": "joinKey2"
                                    }
                                ]
                            },
                            "data": [
                                {
                                    "0": "1",
                                    "1": "Andrea",
                                    "2": "101",
                                    "3": "6",
                                    "4": "V",
                                    "5": "101"
                                }
                            ]
                        },
                        "text/html": "<table><tr><th>key</th><th>name</th><th>joinKey1</th><th>key</th><th>romanNumeral</th><th>joinKey2</th></tr><tr><td>1</td><td>Andrea</td><td>101</td><td>6</td><td>V</td><td>101</td></tr></table>"
                    },
                    "metadata": {}
                }
            ],
            "execution_count": 62
        },
        {
            "cell_type": "code",
            "source": [
                "select * from HW3_R cross join HW3_S where joinKey1 = joinKey2"
            ],
            "metadata": {
                "azdata_cell_guid": "ffd87058-5838-4ded-b065-5dd5fc3fc79d"
            },
            "outputs": [
                {
                    "output_type": "display_data",
                    "data": {
                        "text/html": "(1 row affected)"
                    },
                    "metadata": {}
                },
                {
                    "output_type": "display_data",
                    "data": {
                        "text/html": "Total execution time: 00:00:00.005"
                    },
                    "metadata": {}
                },
                {
                    "output_type": "execute_result",
                    "execution_count": 65,
                    "data": {
                        "application/vnd.dataresource+json": {
                            "schema": {
                                "fields": [
                                    {
                                        "name": "key"
                                    },
                                    {
                                        "name": "name"
                                    },
                                    {
                                        "name": "joinKey1"
                                    },
                                    {
                                        "name": "key"
                                    },
                                    {
                                        "name": "romanNumeral"
                                    },
                                    {
                                        "name": "joinKey2"
                                    }
                                ]
                            },
                            "data": [
                                {
                                    "0": "1",
                                    "1": "Andrea",
                                    "2": "101",
                                    "3": "6",
                                    "4": "V",
                                    "5": "101"
                                }
                            ]
                        },
                        "text/html": "<table><tr><th>key</th><th>name</th><th>joinKey1</th><th>key</th><th>romanNumeral</th><th>joinKey2</th></tr><tr><td>1</td><td>Andrea</td><td>101</td><td>6</td><td>V</td><td>101</td></tr></table>"
                    },
                    "metadata": {}
                }
            ],
            "execution_count": 65
        },
        {
            "cell_type": "code",
            "source": [
                "select * from HW3_R full outer join HW3_S on joinKey1 = joinKey2 where joinKey1 = joinKey2"
            ],
            "metadata": {
                "azdata_cell_guid": "230c76dd-2204-4bc6-9059-1471a4dd2517"
            },
            "outputs": [
                {
                    "output_type": "display_data",
                    "data": {
                        "text/html": "(1 row affected)"
                    },
                    "metadata": {}
                },
                {
                    "output_type": "display_data",
                    "data": {
                        "text/html": "Total execution time: 00:00:00.008"
                    },
                    "metadata": {}
                },
                {
                    "output_type": "execute_result",
                    "execution_count": 64,
                    "data": {
                        "application/vnd.dataresource+json": {
                            "schema": {
                                "fields": [
                                    {
                                        "name": "key"
                                    },
                                    {
                                        "name": "name"
                                    },
                                    {
                                        "name": "joinKey1"
                                    },
                                    {
                                        "name": "key"
                                    },
                                    {
                                        "name": "romanNumeral"
                                    },
                                    {
                                        "name": "joinKey2"
                                    }
                                ]
                            },
                            "data": [
                                {
                                    "0": "1",
                                    "1": "Andrea",
                                    "2": "101",
                                    "3": "6",
                                    "4": "V",
                                    "5": "101"
                                }
                            ]
                        },
                        "text/html": "<table><tr><th>key</th><th>name</th><th>joinKey1</th><th>key</th><th>romanNumeral</th><th>joinKey2</th></tr><tr><td>1</td><td>Andrea</td><td>101</td><td>6</td><td>V</td><td>101</td></tr></table>"
                    },
                    "metadata": {}
                }
            ],
            "execution_count": 64
        },
        {
            "cell_type": "markdown",
            "source": [
                "# vii."
            ],
            "metadata": {
                "azdata_cell_guid": "1663ac80-f54e-4099-9808-273810b69dbb"
            }
        },
        {
            "cell_type": "code",
            "source": [
                "select * from HW3_R join HW3_S on joinKey1 != joinKey2"
            ],
            "metadata": {
                "azdata_cell_guid": "e99d47a6-8f6d-4060-b44c-53bd3aa50a98"
            },
            "outputs": [
                {
                    "output_type": "display_data",
                    "data": {
                        "text/html": "(3 rows affected)"
                    },
                    "metadata": {}
                },
                {
                    "output_type": "display_data",
                    "data": {
                        "text/html": "Total execution time: 00:00:00.007"
                    },
                    "metadata": {}
                },
                {
                    "output_type": "execute_result",
                    "execution_count": 66,
                    "data": {
                        "application/vnd.dataresource+json": {
                            "schema": {
                                "fields": [
                                    {
                                        "name": "key"
                                    },
                                    {
                                        "name": "name"
                                    },
                                    {
                                        "name": "joinKey1"
                                    },
                                    {
                                        "name": "key"
                                    },
                                    {
                                        "name": "romanNumeral"
                                    },
                                    {
                                        "name": "joinKey2"
                                    }
                                ]
                            },
                            "data": [
                                {
                                    "0": "5",
                                    "1": "John",
                                    "2": "106",
                                    "3": "6",
                                    "4": "V",
                                    "5": "101"
                                },
                                {
                                    "0": "1",
                                    "1": "Andrea",
                                    "2": "101",
                                    "3": "8",
                                    "4": "L",
                                    "5": "105"
                                },
                                {
                                    "0": "5",
                                    "1": "John",
                                    "2": "106",
                                    "3": "8",
                                    "4": "L",
                                    "5": "105"
                                }
                            ]
                        },
                        "text/html": "<table><tr><th>key</th><th>name</th><th>joinKey1</th><th>key</th><th>romanNumeral</th><th>joinKey2</th></tr><tr><td>5</td><td>John</td><td>106</td><td>6</td><td>V</td><td>101</td></tr><tr><td>1</td><td>Andrea</td><td>101</td><td>8</td><td>L</td><td>105</td></tr><tr><td>5</td><td>John</td><td>106</td><td>8</td><td>L</td><td>105</td></tr></table>"
                    },
                    "metadata": {}
                }
            ],
            "execution_count": 66
        },
        {
            "cell_type": "code",
            "source": [
                "select * from HW3_R cross join HW3_S where joinKey1 != joinKey2"
            ],
            "metadata": {
                "azdata_cell_guid": "3697012a-4d2c-42bd-b5aa-24163335104d"
            },
            "outputs": [
                {
                    "output_type": "display_data",
                    "data": {
                        "text/html": "(3 rows affected)"
                    },
                    "metadata": {}
                },
                {
                    "output_type": "display_data",
                    "data": {
                        "text/html": "Total execution time: 00:00:00.009"
                    },
                    "metadata": {}
                },
                {
                    "output_type": "execute_result",
                    "execution_count": 69,
                    "data": {
                        "application/vnd.dataresource+json": {
                            "schema": {
                                "fields": [
                                    {
                                        "name": "key"
                                    },
                                    {
                                        "name": "name"
                                    },
                                    {
                                        "name": "joinKey1"
                                    },
                                    {
                                        "name": "key"
                                    },
                                    {
                                        "name": "romanNumeral"
                                    },
                                    {
                                        "name": "joinKey2"
                                    }
                                ]
                            },
                            "data": [
                                {
                                    "0": "5",
                                    "1": "John",
                                    "2": "106",
                                    "3": "6",
                                    "4": "V",
                                    "5": "101"
                                },
                                {
                                    "0": "1",
                                    "1": "Andrea",
                                    "2": "101",
                                    "3": "8",
                                    "4": "L",
                                    "5": "105"
                                },
                                {
                                    "0": "5",
                                    "1": "John",
                                    "2": "106",
                                    "3": "8",
                                    "4": "L",
                                    "5": "105"
                                }
                            ]
                        },
                        "text/html": "<table><tr><th>key</th><th>name</th><th>joinKey1</th><th>key</th><th>romanNumeral</th><th>joinKey2</th></tr><tr><td>5</td><td>John</td><td>106</td><td>6</td><td>V</td><td>101</td></tr><tr><td>1</td><td>Andrea</td><td>101</td><td>8</td><td>L</td><td>105</td></tr><tr><td>5</td><td>John</td><td>106</td><td>8</td><td>L</td><td>105</td></tr></table>"
                    },
                    "metadata": {}
                }
            ],
            "execution_count": 69
        },
        {
            "cell_type": "code",
            "source": [
                "select * from HW3_R full outer join HW3_S on joinKey1 != joinKey2 where joinKey1 != joinKey2"
            ],
            "metadata": {
                "azdata_cell_guid": "0cef1f1c-82cd-45cc-8421-b6f133828aa1"
            },
            "outputs": [
                {
                    "output_type": "display_data",
                    "data": {
                        "text/html": "(3 rows affected)"
                    },
                    "metadata": {}
                },
                {
                    "output_type": "display_data",
                    "data": {
                        "text/html": "Total execution time: 00:00:00.007"
                    },
                    "metadata": {}
                },
                {
                    "output_type": "execute_result",
                    "execution_count": 70,
                    "data": {
                        "application/vnd.dataresource+json": {
                            "schema": {
                                "fields": [
                                    {
                                        "name": "key"
                                    },
                                    {
                                        "name": "name"
                                    },
                                    {
                                        "name": "joinKey1"
                                    },
                                    {
                                        "name": "key"
                                    },
                                    {
                                        "name": "romanNumeral"
                                    },
                                    {
                                        "name": "joinKey2"
                                    }
                                ]
                            },
                            "data": [
                                {
                                    "0": "5",
                                    "1": "John",
                                    "2": "106",
                                    "3": "6",
                                    "4": "V",
                                    "5": "101"
                                },
                                {
                                    "0": "1",
                                    "1": "Andrea",
                                    "2": "101",
                                    "3": "8",
                                    "4": "L",
                                    "5": "105"
                                },
                                {
                                    "0": "5",
                                    "1": "John",
                                    "2": "106",
                                    "3": "8",
                                    "4": "L",
                                    "5": "105"
                                }
                            ]
                        },
                        "text/html": "<table><tr><th>key</th><th>name</th><th>joinKey1</th><th>key</th><th>romanNumeral</th><th>joinKey2</th></tr><tr><td>5</td><td>John</td><td>106</td><td>6</td><td>V</td><td>101</td></tr><tr><td>1</td><td>Andrea</td><td>101</td><td>8</td><td>L</td><td>105</td></tr><tr><td>5</td><td>John</td><td>106</td><td>8</td><td>L</td><td>105</td></tr></table>"
                    },
                    "metadata": {}
                }
            ],
            "execution_count": 70
        },
        {
            "cell_type": "markdown",
            "source": [
                "# viii."
            ],
            "metadata": {
                "azdata_cell_guid": "2bb0e92c-1421-4220-bcd1-166917997a65"
            }
        },
        {
            "cell_type": "code",
            "source": [
                "select * from HW3_R full outer join HW3_S on joinKey1 = joinKey2"
            ],
            "metadata": {
                "azdata_cell_guid": "9cbf8960-4623-451a-b451-e4d0dccf8dcc"
            },
            "outputs": [
                {
                    "output_type": "display_data",
                    "data": {
                        "text/html": "(7 rows affected)"
                    },
                    "metadata": {}
                },
                {
                    "output_type": "display_data",
                    "data": {
                        "text/html": "Total execution time: 00:00:00.009"
                    },
                    "metadata": {}
                },
                {
                    "output_type": "execute_result",
                    "execution_count": 27,
                    "data": {
                        "application/vnd.dataresource+json": {
                            "schema": {
                                "fields": [
                                    {
                                        "name": "key"
                                    },
                                    {
                                        "name": "name"
                                    },
                                    {
                                        "name": "joinKey1"
                                    },
                                    {
                                        "name": "key"
                                    },
                                    {
                                        "name": "romanNumeral"
                                    },
                                    {
                                        "name": "joinKey2"
                                    }
                                ]
                            },
                            "data": [
                                {
                                    "0": "1",
                                    "1": "Andrea",
                                    "2": "101",
                                    "3": "6",
                                    "4": "V",
                                    "5": "101"
                                },
                                {
                                    "0": "2",
                                    "1": "David",
                                    "2": "NULL",
                                    "3": "NULL",
                                    "4": "NULL",
                                    "5": "NULL"
                                },
                                {
                                    "0": "3",
                                    "1": "David",
                                    "2": "NULL",
                                    "3": "NULL",
                                    "4": "NULL",
                                    "5": "NULL"
                                },
                                {
                                    "0": "4",
                                    "1": "Dan",
                                    "2": "NULL",
                                    "3": "NULL",
                                    "4": "NULL",
                                    "5": "NULL"
                                },
                                {
                                    "0": "5",
                                    "1": "John",
                                    "2": "106",
                                    "3": "NULL",
                                    "4": "NULL",
                                    "5": "NULL"
                                },
                                {
                                    "0": "NULL",
                                    "1": "NULL",
                                    "2": "NULL",
                                    "3": "7",
                                    "4": "X",
                                    "5": "NULL"
                                },
                                {
                                    "0": "NULL",
                                    "1": "NULL",
                                    "2": "NULL",
                                    "3": "8",
                                    "4": "L",
                                    "5": "105"
                                }
                            ]
                        },
                        "text/html": "<table><tr><th>key</th><th>name</th><th>joinKey1</th><th>key</th><th>romanNumeral</th><th>joinKey2</th></tr><tr><td>1</td><td>Andrea</td><td>101</td><td>6</td><td>V</td><td>101</td></tr><tr><td>2</td><td>David</td><td>NULL</td><td>NULL</td><td>NULL</td><td>NULL</td></tr><tr><td>3</td><td>David</td><td>NULL</td><td>NULL</td><td>NULL</td><td>NULL</td></tr><tr><td>4</td><td>Dan</td><td>NULL</td><td>NULL</td><td>NULL</td><td>NULL</td></tr><tr><td>5</td><td>John</td><td>106</td><td>NULL</td><td>NULL</td><td>NULL</td></tr><tr><td>NULL</td><td>NULL</td><td>NULL</td><td>7</td><td>X</td><td>NULL</td></tr><tr><td>NULL</td><td>NULL</td><td>NULL</td><td>8</td><td>L</td><td>105</td></tr></table>"
                    },
                    "metadata": {}
                }
            ],
            "execution_count": 27
        },
        {
            "cell_type": "code",
            "source": [
                "select * from HW3_R right outer join HW3_S on joinKey1 = joinKey2\n",
                "UNION\n",
                "select * from HW3_R left outer join HW3_S on joinKey1 = joinKey2\n",
                ""
            ],
            "metadata": {
                "azdata_cell_guid": "eb40f441-5c77-4639-8888-76f2165e592c"
            },
            "outputs": [
                {
                    "output_type": "display_data",
                    "data": {
                        "text/html": "(7 rows affected)"
                    },
                    "metadata": {}
                },
                {
                    "output_type": "display_data",
                    "data": {
                        "text/html": "Total execution time: 00:00:00.009"
                    },
                    "metadata": {}
                },
                {
                    "output_type": "execute_result",
                    "metadata": {},
                    "execution_count": 4,
                    "data": {
                        "application/vnd.dataresource+json": {
                            "schema": {
                                "fields": [
                                    {
                                        "name": "key"
                                    },
                                    {
                                        "name": "name"
                                    },
                                    {
                                        "name": "joinKey1"
                                    },
                                    {
                                        "name": "key"
                                    },
                                    {
                                        "name": "romanNumeral"
                                    },
                                    {
                                        "name": "joinKey2"
                                    }
                                ]
                            },
                            "data": [
                                {
                                    "0": "NULL",
                                    "1": "NULL",
                                    "2": "NULL",
                                    "3": "7",
                                    "4": "X",
                                    "5": "NULL"
                                },
                                {
                                    "0": "NULL",
                                    "1": "NULL",
                                    "2": "NULL",
                                    "3": "8",
                                    "4": "L",
                                    "5": "105"
                                },
                                {
                                    "0": "1",
                                    "1": "Andrea",
                                    "2": "101",
                                    "3": "6",
                                    "4": "V",
                                    "5": "101"
                                },
                                {
                                    "0": "2",
                                    "1": "David",
                                    "2": "NULL",
                                    "3": "NULL",
                                    "4": "NULL",
                                    "5": "NULL"
                                },
                                {
                                    "0": "3",
                                    "1": "David",
                                    "2": "NULL",
                                    "3": "NULL",
                                    "4": "NULL",
                                    "5": "NULL"
                                },
                                {
                                    "0": "4",
                                    "1": "Dan",
                                    "2": "NULL",
                                    "3": "NULL",
                                    "4": "NULL",
                                    "5": "NULL"
                                },
                                {
                                    "0": "5",
                                    "1": "John",
                                    "2": "106",
                                    "3": "NULL",
                                    "4": "NULL",
                                    "5": "NULL"
                                }
                            ]
                        },
                        "text/html": "<table><tr><th>key</th><th>name</th><th>joinKey1</th><th>key</th><th>romanNumeral</th><th>joinKey2</th></tr><tr><td>NULL</td><td>NULL</td><td>NULL</td><td>7</td><td>X</td><td>NULL</td></tr><tr><td>NULL</td><td>NULL</td><td>NULL</td><td>8</td><td>L</td><td>105</td></tr><tr><td>1</td><td>Andrea</td><td>101</td><td>6</td><td>V</td><td>101</td></tr><tr><td>2</td><td>David</td><td>NULL</td><td>NULL</td><td>NULL</td><td>NULL</td></tr><tr><td>3</td><td>David</td><td>NULL</td><td>NULL</td><td>NULL</td><td>NULL</td></tr><tr><td>4</td><td>Dan</td><td>NULL</td><td>NULL</td><td>NULL</td><td>NULL</td></tr><tr><td>5</td><td>John</td><td>106</td><td>NULL</td><td>NULL</td><td>NULL</td></tr></table>"
                    }
                }
            ],
            "execution_count": 4
        },
        {
            "cell_type": "markdown",
            "source": [
                "# ix."
            ],
            "metadata": {
                "azdata_cell_guid": "dcb47b76-ab46-4185-99a3-2ca62f1050ca"
            }
        },
        {
            "cell_type": "code",
            "source": [
                "select * from HW3_R left outer join HW3_S on joinKey1=joinKey2"
            ],
            "metadata": {
                "azdata_cell_guid": "25155992-46f9-4122-818b-e6ec4438a483"
            },
            "outputs": [
                {
                    "output_type": "display_data",
                    "data": {
                        "text/html": "(5 rows affected)"
                    },
                    "metadata": {}
                },
                {
                    "output_type": "display_data",
                    "data": {
                        "text/html": "Total execution time: 00:00:00.006"
                    },
                    "metadata": {}
                },
                {
                    "output_type": "execute_result",
                    "execution_count": 20,
                    "data": {
                        "application/vnd.dataresource+json": {
                            "schema": {
                                "fields": [
                                    {
                                        "name": "key"
                                    },
                                    {
                                        "name": "name"
                                    },
                                    {
                                        "name": "joinKey1"
                                    },
                                    {
                                        "name": "key"
                                    },
                                    {
                                        "name": "romanNumeral"
                                    },
                                    {
                                        "name": "joinKey2"
                                    }
                                ]
                            },
                            "data": [
                                {
                                    "0": "1",
                                    "1": "Andrea",
                                    "2": "101",
                                    "3": "6",
                                    "4": "V",
                                    "5": "101"
                                },
                                {
                                    "0": "2",
                                    "1": "David",
                                    "2": "NULL",
                                    "3": "NULL",
                                    "4": "NULL",
                                    "5": "NULL"
                                },
                                {
                                    "0": "3",
                                    "1": "David",
                                    "2": "NULL",
                                    "3": "NULL",
                                    "4": "NULL",
                                    "5": "NULL"
                                },
                                {
                                    "0": "4",
                                    "1": "Dan",
                                    "2": "NULL",
                                    "3": "NULL",
                                    "4": "NULL",
                                    "5": "NULL"
                                },
                                {
                                    "0": "5",
                                    "1": "John",
                                    "2": "106",
                                    "3": "NULL",
                                    "4": "NULL",
                                    "5": "NULL"
                                }
                            ]
                        },
                        "text/html": "<table><tr><th>key</th><th>name</th><th>joinKey1</th><th>key</th><th>romanNumeral</th><th>joinKey2</th></tr><tr><td>1</td><td>Andrea</td><td>101</td><td>6</td><td>V</td><td>101</td></tr><tr><td>2</td><td>David</td><td>NULL</td><td>NULL</td><td>NULL</td><td>NULL</td></tr><tr><td>3</td><td>David</td><td>NULL</td><td>NULL</td><td>NULL</td><td>NULL</td></tr><tr><td>4</td><td>Dan</td><td>NULL</td><td>NULL</td><td>NULL</td><td>NULL</td></tr><tr><td>5</td><td>John</td><td>106</td><td>NULL</td><td>NULL</td><td>NULL</td></tr></table>"
                    },
                    "metadata": {}
                }
            ],
            "execution_count": 20
        },
        {
            "cell_type": "code",
            "source": [
                "select * from HW3_R full outer join HW3_S on joinKey1=joinKey2 where not (HW3_R.[key] is null and [name] is null and joinKey1 is null)"
            ],
            "metadata": {
                "azdata_cell_guid": "8efd4591-8eef-49e0-87ed-d87ca05f7141"
            },
            "outputs": [
                {
                    "output_type": "display_data",
                    "data": {
                        "text/html": "(5 rows affected)"
                    },
                    "metadata": {}
                },
                {
                    "output_type": "display_data",
                    "data": {
                        "text/html": "Total execution time: 00:00:00.011"
                    },
                    "metadata": {}
                },
                {
                    "output_type": "execute_result",
                    "execution_count": 71,
                    "data": {
                        "application/vnd.dataresource+json": {
                            "schema": {
                                "fields": [
                                    {
                                        "name": "key"
                                    },
                                    {
                                        "name": "name"
                                    },
                                    {
                                        "name": "joinKey1"
                                    },
                                    {
                                        "name": "key"
                                    },
                                    {
                                        "name": "romanNumeral"
                                    },
                                    {
                                        "name": "joinKey2"
                                    }
                                ]
                            },
                            "data": [
                                {
                                    "0": "1",
                                    "1": "Andrea",
                                    "2": "101",
                                    "3": "6",
                                    "4": "V",
                                    "5": "101"
                                },
                                {
                                    "0": "2",
                                    "1": "David",
                                    "2": "NULL",
                                    "3": "NULL",
                                    "4": "NULL",
                                    "5": "NULL"
                                },
                                {
                                    "0": "3",
                                    "1": "David",
                                    "2": "NULL",
                                    "3": "NULL",
                                    "4": "NULL",
                                    "5": "NULL"
                                },
                                {
                                    "0": "4",
                                    "1": "Dan",
                                    "2": "NULL",
                                    "3": "NULL",
                                    "4": "NULL",
                                    "5": "NULL"
                                },
                                {
                                    "0": "5",
                                    "1": "John",
                                    "2": "106",
                                    "3": "NULL",
                                    "4": "NULL",
                                    "5": "NULL"
                                }
                            ]
                        },
                        "text/html": "<table><tr><th>key</th><th>name</th><th>joinKey1</th><th>key</th><th>romanNumeral</th><th>joinKey2</th></tr><tr><td>1</td><td>Andrea</td><td>101</td><td>6</td><td>V</td><td>101</td></tr><tr><td>2</td><td>David</td><td>NULL</td><td>NULL</td><td>NULL</td><td>NULL</td></tr><tr><td>3</td><td>David</td><td>NULL</td><td>NULL</td><td>NULL</td><td>NULL</td></tr><tr><td>4</td><td>Dan</td><td>NULL</td><td>NULL</td><td>NULL</td><td>NULL</td></tr><tr><td>5</td><td>John</td><td>106</td><td>NULL</td><td>NULL</td><td>NULL</td></tr></table>"
                    },
                    "metadata": {}
                }
            ],
            "execution_count": 71
        },
        {
            "cell_type": "markdown",
            "source": [
                "# x."
            ],
            "metadata": {
                "azdata_cell_guid": "1889a72c-6af3-401c-80c2-691da5a0a4a2"
            }
        },
        {
            "cell_type": "code",
            "source": [
                "select * from HW3_R where joinKey1 in (select joinKey2 from HW3_S)"
            ],
            "metadata": {
                "azdata_cell_guid": "4dfb3586-84eb-4bb7-8c12-ee49f2f1d4a6"
            },
            "outputs": [
                {
                    "output_type": "display_data",
                    "data": {
                        "text/html": "(1 row affected)"
                    },
                    "metadata": {}
                },
                {
                    "output_type": "display_data",
                    "data": {
                        "text/html": "Total execution time: 00:00:00.005"
                    },
                    "metadata": {}
                },
                {
                    "output_type": "execute_result",
                    "execution_count": 72,
                    "data": {
                        "application/vnd.dataresource+json": {
                            "schema": {
                                "fields": [
                                    {
                                        "name": "key"
                                    },
                                    {
                                        "name": "name"
                                    },
                                    {
                                        "name": "joinKey1"
                                    }
                                ]
                            },
                            "data": [
                                {
                                    "0": "1",
                                    "1": "Andrea",
                                    "2": "101"
                                }
                            ]
                        },
                        "text/html": "<table><tr><th>key</th><th>name</th><th>joinKey1</th></tr><tr><td>1</td><td>Andrea</td><td>101</td></tr></table>"
                    },
                    "metadata": {}
                }
            ],
            "execution_count": 72
        },
        {
            "cell_type": "code",
            "source": [
                "select * from HW3_R where joinKey1 in (select joinKey2 from HW3_S where joinKey1 = joinKey2)"
            ],
            "metadata": {
                "azdata_cell_guid": "5974e6f4-c3dd-4615-902b-81ce415b3ff2"
            },
            "outputs": [
                {
                    "output_type": "display_data",
                    "data": {
                        "text/html": "(1 row affected)"
                    },
                    "metadata": {}
                },
                {
                    "output_type": "display_data",
                    "data": {
                        "text/html": "Total execution time: 00:00:00.004"
                    },
                    "metadata": {}
                },
                {
                    "output_type": "execute_result",
                    "execution_count": 73,
                    "data": {
                        "application/vnd.dataresource+json": {
                            "schema": {
                                "fields": [
                                    {
                                        "name": "key"
                                    },
                                    {
                                        "name": "name"
                                    },
                                    {
                                        "name": "joinKey1"
                                    }
                                ]
                            },
                            "data": [
                                {
                                    "0": "1",
                                    "1": "Andrea",
                                    "2": "101"
                                }
                            ]
                        },
                        "text/html": "<table><tr><th>key</th><th>name</th><th>joinKey1</th></tr><tr><td>1</td><td>Andrea</td><td>101</td></tr></table>"
                    },
                    "metadata": {}
                }
            ],
            "execution_count": 73
        },
        {
            "cell_type": "markdown",
            "source": [
                "# xi."
            ],
            "metadata": {
                "azdata_cell_guid": "b67797a9-abfa-4fea-8b83-36289029b676"
            }
        },
        {
            "cell_type": "code",
            "source": [
                "select * from HW3_R where not exists (select joinKey2 from HW3_S where joinKey1 = joinKey2)"
            ],
            "metadata": {
                "azdata_cell_guid": "697cd2b6-c901-4bd4-80a1-6f0580a841fc"
            },
            "outputs": [
                {
                    "output_type": "display_data",
                    "data": {
                        "text/html": "(4 rows affected)"
                    },
                    "metadata": {}
                },
                {
                    "output_type": "display_data",
                    "data": {
                        "text/html": "Total execution time: 00:00:00.193"
                    },
                    "metadata": {}
                },
                {
                    "output_type": "execute_result",
                    "metadata": {},
                    "execution_count": 1,
                    "data": {
                        "application/vnd.dataresource+json": {
                            "schema": {
                                "fields": [
                                    {
                                        "name": "key"
                                    },
                                    {
                                        "name": "name"
                                    },
                                    {
                                        "name": "joinKey1"
                                    }
                                ]
                            },
                            "data": [
                                {
                                    "0": "2",
                                    "1": "David",
                                    "2": "NULL"
                                },
                                {
                                    "0": "3",
                                    "1": "David",
                                    "2": "NULL"
                                },
                                {
                                    "0": "4",
                                    "1": "Dan",
                                    "2": "NULL"
                                },
                                {
                                    "0": "5",
                                    "1": "John",
                                    "2": "106"
                                }
                            ]
                        },
                        "text/html": "<table><tr><th>key</th><th>name</th><th>joinKey1</th></tr><tr><td>2</td><td>David</td><td>NULL</td></tr><tr><td>3</td><td>David</td><td>NULL</td></tr><tr><td>4</td><td>Dan</td><td>NULL</td></tr><tr><td>5</td><td>John</td><td>106</td></tr></table>"
                    }
                }
            ],
            "execution_count": 1
        },
        {
            "cell_type": "code",
            "source": [
                "select * from HW3_R where joinKey1 in (select joinKey1 from HW3_R except select joinKey2 from HW3_S) or joinKey1 is null"
            ],
            "metadata": {
                "azdata_cell_guid": "529a55e3-ac90-4936-aa14-8d2d05392d93"
            },
            "outputs": [
                {
                    "output_type": "display_data",
                    "data": {
                        "text/html": "(4 rows affected)"
                    },
                    "metadata": {}
                },
                {
                    "output_type": "display_data",
                    "data": {
                        "text/html": "Total execution time: 00:00:00.028"
                    },
                    "metadata": {}
                },
                {
                    "output_type": "execute_result",
                    "metadata": {},
                    "execution_count": 2,
                    "data": {
                        "application/vnd.dataresource+json": {
                            "schema": {
                                "fields": [
                                    {
                                        "name": "key"
                                    },
                                    {
                                        "name": "name"
                                    },
                                    {
                                        "name": "joinKey1"
                                    }
                                ]
                            },
                            "data": [
                                {
                                    "0": "2",
                                    "1": "David",
                                    "2": "NULL"
                                },
                                {
                                    "0": "3",
                                    "1": "David",
                                    "2": "NULL"
                                },
                                {
                                    "0": "4",
                                    "1": "Dan",
                                    "2": "NULL"
                                },
                                {
                                    "0": "5",
                                    "1": "John",
                                    "2": "106"
                                }
                            ]
                        },
                        "text/html": "<table><tr><th>key</th><th>name</th><th>joinKey1</th></tr><tr><td>2</td><td>David</td><td>NULL</td></tr><tr><td>3</td><td>David</td><td>NULL</td></tr><tr><td>4</td><td>Dan</td><td>NULL</td></tr><tr><td>5</td><td>John</td><td>106</td></tr></table>"
                    }
                }
            ],
            "execution_count": 2
        },
        {
            "cell_type": "code",
            "source": [
                ""
            ],
            "metadata": {
                "azdata_cell_guid": "73d4006f-c268-4557-bfdc-9dfe2e2b1b9a"
            },
            "outputs": [],
            "execution_count": 0
        }
    ]
}