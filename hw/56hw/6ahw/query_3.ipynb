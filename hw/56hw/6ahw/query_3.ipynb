{
    "metadata": {
        "kernelspec": {
            "name": "SQL",
            "display_name": "SQL",
            "language": "sql"
        },
        "language_info": {
            "name": "sql",
            "version": ""
        }
    },
    "nbformat_minor": 2,
    "nbformat": 4,
    "cells": [
        {
            "cell_type": "code",
            "source": [
                "select * from benchmark where benchmark.columnA = 5000 and benchmark.columnB = 5000"
            ],
            "metadata": {
                "azdata_cell_guid": "5cb92704-5f87-44e8-b73c-3947ae6bcb17"
            },
            "outputs": [
                {
                    "output_type": "display_data",
                    "data": {
                        "text/html": "(0 rows affected)"
                    },
                    "metadata": {}
                },
                {
                    "output_type": "display_data",
                    "data": {
                        "text/html": "Total execution time: 00:00:00.012"
                    },
                    "metadata": {}
                },
                {
                    "output_type": "execute_result",
                    "execution_count": 21,
                    "data": {
                        "application/vnd.dataresource+json": {
                            "schema": {
                                "fields": [
                                    {
                                        "name": "theKey"
                                    },
                                    {
                                        "name": "columnA"
                                    },
                                    {
                                        "name": "columnB"
                                    },
                                    {
                                        "name": "filler"
                                    }
                                ]
                            },
                            "data": []
                        },
                        "text/html": "<table><tr><th>theKey</th><th>columnA</th><th>columnB</th><th>filler</th></tr></table>"
                    },
                    "metadata": {}
                }
            ],
            "execution_count": 21
        },
        {
            "cell_type": "code",
            "source": [
                "select * from benchmark where benchmark.columnA = 10000 and benchmark.columnB = 10000"
            ],
            "metadata": {
                "azdata_cell_guid": "220712e5-3340-4c21-bbda-180065a077a6"
            },
            "outputs": [
                {
                    "output_type": "display_data",
                    "data": {
                        "text/html": "(0 rows affected)"
                    },
                    "metadata": {}
                },
                {
                    "output_type": "execute_result",
                    "execution_count": 22,
                    "data": {
                        "application/vnd.dataresource+json": {
                            "schema": {
                                "fields": [
                                    {
                                        "name": "theKey"
                                    },
                                    {
                                        "name": "columnA"
                                    },
                                    {
                                        "name": "columnB"
                                    },
                                    {
                                        "name": "filler"
                                    }
                                ]
                            },
                            "data": []
                        },
                        "text/html": "<table><tr><th>theKey</th><th>columnA</th><th>columnB</th><th>filler</th></tr></table>"
                    },
                    "metadata": {}
                },
                {
                    "output_type": "display_data",
                    "data": {
                        "text/html": "Total execution time: 00:00:00.018"
                    },
                    "metadata": {}
                }
            ],
            "execution_count": 22
        },
        {
            "cell_type": "code",
            "source": [
                "select * from benchmark where benchmark.columnA = 15000 and benchmark.columnB = 15000"
            ],
            "metadata": {
                "azdata_cell_guid": "7339acd6-e64f-4914-bef0-a141e9ac5fbe"
            },
            "outputs": [
                {
                    "output_type": "display_data",
                    "data": {
                        "text/html": "(0 rows affected)"
                    },
                    "metadata": {}
                },
                {
                    "output_type": "display_data",
                    "data": {
                        "text/html": "Total execution time: 00:00:00.012"
                    },
                    "metadata": {}
                },
                {
                    "output_type": "execute_result",
                    "execution_count": 23,
                    "data": {
                        "application/vnd.dataresource+json": {
                            "schema": {
                                "fields": [
                                    {
                                        "name": "theKey"
                                    },
                                    {
                                        "name": "columnA"
                                    },
                                    {
                                        "name": "columnB"
                                    },
                                    {
                                        "name": "filler"
                                    }
                                ]
                            },
                            "data": []
                        },
                        "text/html": "<table><tr><th>theKey</th><th>columnA</th><th>columnB</th><th>filler</th></tr></table>"
                    },
                    "metadata": {}
                }
            ],
            "execution_count": 23
        },
        {
            "cell_type": "code",
            "source": [
                "select * from benchmark where benchmark.columnA = 20000 and benchmark.columnB = 20000"
            ],
            "metadata": {
                "azdata_cell_guid": "e0873067-5ef2-463d-905b-2f05bdaeeb7b"
            },
            "outputs": [
                {
                    "output_type": "display_data",
                    "data": {
                        "text/html": "(0 rows affected)"
                    },
                    "metadata": {}
                },
                {
                    "output_type": "display_data",
                    "data": {
                        "text/html": "Total execution time: 00:00:00.013"
                    },
                    "metadata": {}
                },
                {
                    "output_type": "execute_result",
                    "execution_count": 24,
                    "data": {
                        "application/vnd.dataresource+json": {
                            "schema": {
                                "fields": [
                                    {
                                        "name": "theKey"
                                    },
                                    {
                                        "name": "columnA"
                                    },
                                    {
                                        "name": "columnB"
                                    },
                                    {
                                        "name": "filler"
                                    }
                                ]
                            },
                            "data": []
                        },
                        "text/html": "<table><tr><th>theKey</th><th>columnA</th><th>columnB</th><th>filler</th></tr></table>"
                    },
                    "metadata": {}
                }
            ],
            "execution_count": 24
        },
        {
            "cell_type": "code",
            "source": [
                "select * from benchmark where benchmark.columnA = 25000 and benchmark.columnB = 25000"
            ],
            "metadata": {
                "azdata_cell_guid": "cbb63fa8-a131-4ca1-a488-a48211cfc182"
            },
            "outputs": [
                {
                    "output_type": "display_data",
                    "data": {
                        "text/html": "(0 rows affected)"
                    },
                    "metadata": {}
                },
                {
                    "output_type": "execute_result",
                    "execution_count": 25,
                    "data": {
                        "application/vnd.dataresource+json": {
                            "schema": {
                                "fields": [
                                    {
                                        "name": "theKey"
                                    },
                                    {
                                        "name": "columnA"
                                    },
                                    {
                                        "name": "columnB"
                                    },
                                    {
                                        "name": "filler"
                                    }
                                ]
                            },
                            "data": []
                        },
                        "text/html": "<table><tr><th>theKey</th><th>columnA</th><th>columnB</th><th>filler</th></tr></table>"
                    },
                    "metadata": {}
                },
                {
                    "output_type": "display_data",
                    "data": {
                        "text/html": "Total execution time: 00:00:00.015"
                    },
                    "metadata": {}
                }
            ],
            "execution_count": 25
        },
        {
            "cell_type": "code",
            "source": [
                "select * from benchmark where benchmark.columnA = 30000 and benchmark.columnB = 30000"
            ],
            "metadata": {
                "azdata_cell_guid": "d3c68764-a817-4fb9-a8cf-daecb5e45907"
            },
            "outputs": [
                {
                    "output_type": "display_data",
                    "data": {
                        "text/html": "(0 rows affected)"
                    },
                    "metadata": {}
                },
                {
                    "output_type": "execute_result",
                    "execution_count": 26,
                    "data": {
                        "application/vnd.dataresource+json": {
                            "schema": {
                                "fields": [
                                    {
                                        "name": "theKey"
                                    },
                                    {
                                        "name": "columnA"
                                    },
                                    {
                                        "name": "columnB"
                                    },
                                    {
                                        "name": "filler"
                                    }
                                ]
                            },
                            "data": []
                        },
                        "text/html": "<table><tr><th>theKey</th><th>columnA</th><th>columnB</th><th>filler</th></tr></table>"
                    },
                    "metadata": {}
                },
                {
                    "output_type": "display_data",
                    "data": {
                        "text/html": "Total execution time: 00:00:00.012"
                    },
                    "metadata": {}
                }
            ],
            "execution_count": 26
        },
        {
            "cell_type": "code",
            "source": [
                "select * from benchmark where benchmark.columnA = 35000 and benchmark.columnB = 35000"
            ],
            "metadata": {
                "azdata_cell_guid": "106e2b84-3127-4adb-89bf-6a27963b1d29"
            },
            "outputs": [
                {
                    "output_type": "display_data",
                    "data": {
                        "text/html": "(0 rows affected)"
                    },
                    "metadata": {}
                },
                {
                    "output_type": "execute_result",
                    "execution_count": 27,
                    "data": {
                        "application/vnd.dataresource+json": {
                            "schema": {
                                "fields": [
                                    {
                                        "name": "theKey"
                                    },
                                    {
                                        "name": "columnA"
                                    },
                                    {
                                        "name": "columnB"
                                    },
                                    {
                                        "name": "filler"
                                    }
                                ]
                            },
                            "data": []
                        },
                        "text/html": "<table><tr><th>theKey</th><th>columnA</th><th>columnB</th><th>filler</th></tr></table>"
                    },
                    "metadata": {}
                },
                {
                    "output_type": "display_data",
                    "data": {
                        "text/html": "Total execution time: 00:00:00.023"
                    },
                    "metadata": {}
                }
            ],
            "execution_count": 27
        },
        {
            "cell_type": "code",
            "source": [
                "select * from benchmark where benchmark.columnA = 40000 and benchmark.columnB = 40000"
            ],
            "metadata": {
                "azdata_cell_guid": "3425f605-9e85-4e0d-8b5c-5ee59b6a145f"
            },
            "outputs": [
                {
                    "output_type": "display_data",
                    "data": {
                        "text/html": "(0 rows affected)"
                    },
                    "metadata": {}
                },
                {
                    "output_type": "execute_result",
                    "execution_count": 28,
                    "data": {
                        "application/vnd.dataresource+json": {
                            "schema": {
                                "fields": [
                                    {
                                        "name": "theKey"
                                    },
                                    {
                                        "name": "columnA"
                                    },
                                    {
                                        "name": "columnB"
                                    },
                                    {
                                        "name": "filler"
                                    }
                                ]
                            },
                            "data": []
                        },
                        "text/html": "<table><tr><th>theKey</th><th>columnA</th><th>columnB</th><th>filler</th></tr></table>"
                    },
                    "metadata": {}
                },
                {
                    "output_type": "display_data",
                    "data": {
                        "text/html": "Total execution time: 00:00:00.013"
                    },
                    "metadata": {}
                }
            ],
            "execution_count": 28
        },
        {
            "cell_type": "markdown",
            "source": [
                ""
            ],
            "metadata": {
                "azdata_cell_guid": "89b7fb37-5bf1-496a-a6d7-8a7e7a818226"
            }
        },
        {
            "cell_type": "code",
            "source": [
                "select * from benchmark where benchmark.columnA = 45000 and benchmark.columnB = 45000"
            ],
            "metadata": {
                "azdata_cell_guid": "bcf726c1-9c48-4334-8ee2-8ec274cc6001"
            },
            "outputs": [
                {
                    "output_type": "display_data",
                    "data": {
                        "text/html": "(0 rows affected)"
                    },
                    "metadata": {}
                },
                {
                    "output_type": "execute_result",
                    "execution_count": 29,
                    "data": {
                        "application/vnd.dataresource+json": {
                            "schema": {
                                "fields": [
                                    {
                                        "name": "theKey"
                                    },
                                    {
                                        "name": "columnA"
                                    },
                                    {
                                        "name": "columnB"
                                    },
                                    {
                                        "name": "filler"
                                    }
                                ]
                            },
                            "data": []
                        },
                        "text/html": "<table><tr><th>theKey</th><th>columnA</th><th>columnB</th><th>filler</th></tr></table>"
                    },
                    "metadata": {}
                },
                {
                    "output_type": "display_data",
                    "data": {
                        "text/html": "Total execution time: 00:00:00.016"
                    },
                    "metadata": {}
                }
            ],
            "execution_count": 29
        },
        {
            "cell_type": "code",
            "source": [
                "select * from benchmark where benchmark.columnA = 50000 and benchmark.columnB = 50000"
            ],
            "metadata": {
                "azdata_cell_guid": "0f862649-ad64-40ef-9996-f44da5ecb6e7"
            },
            "outputs": [
                {
                    "output_type": "display_data",
                    "data": {
                        "text/html": "(0 rows affected)"
                    },
                    "metadata": {}
                },
                {
                    "output_type": "execute_result",
                    "execution_count": 30,
                    "data": {
                        "application/vnd.dataresource+json": {
                            "schema": {
                                "fields": [
                                    {
                                        "name": "theKey"
                                    },
                                    {
                                        "name": "columnA"
                                    },
                                    {
                                        "name": "columnB"
                                    },
                                    {
                                        "name": "filler"
                                    }
                                ]
                            },
                            "data": []
                        },
                        "text/html": "<table><tr><th>theKey</th><th>columnA</th><th>columnB</th><th>filler</th></tr></table>"
                    },
                    "metadata": {}
                },
                {
                    "output_type": "display_data",
                    "data": {
                        "text/html": "Total execution time: 00:00:00.012"
                    },
                    "metadata": {}
                }
            ],
            "execution_count": 30
        }
    ]
}