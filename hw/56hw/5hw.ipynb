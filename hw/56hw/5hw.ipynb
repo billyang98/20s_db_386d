{
    "metadata": {
        "kernelspec": {
            "name": "SQL",
            "display_name": "SQL",
            "language": "sql"
        },
        "language_info": {
            "name": "sql",
            "version": ""
        }
    },
    "nbformat_minor": 2,
    "nbformat": 4,
    "cells": [
        {
            "cell_type": "code",
            "source": [
                "CREATE TABLE benchmark (\n",
                "theKey int PRIMARY KEY, columnA int,\n",
                "columnB int,\n",
                "filler CHAR(247)\n",
                ");"
            ],
            "metadata": {
                "azdata_cell_guid": "1f49b9af-d9e1-4776-99f0-4135c0a1ef4a"
            },
            "outputs": [],
            "execution_count": null
        },
        {
            "cell_type": "code",
            "source": [
                "CREATE INDEX idx_benchmark_A \n",
                "ON benchmark(columnA)"
            ],
            "metadata": {
                "azdata_cell_guid": "a00d0027-c3f7-4584-b6bb-55b4b2054e40"
            },
            "outputs": [
                {
                    "output_type": "display_data",
                    "data": {
                        "text/html": "Commands completed successfully."
                    },
                    "metadata": {}
                },
                {
                    "output_type": "display_data",
                    "data": {
                        "text/html": "Total execution time: 00:00:00.021"
                    },
                    "metadata": {}
                }
            ],
            "execution_count": 9
        },
        {
            "cell_type": "code",
            "source": [
                "CREATE INDEX idx_benchmark_B\n",
                "ON benchmark(columnB)"
            ],
            "metadata": {
                "azdata_cell_guid": "4c459918-74c6-4157-847e-e6b3b4027df2"
            },
            "outputs": [
                {
                    "output_type": "error",
                    "evalue": "Msg 1913, Level 16, State 1, Line 1\nThe operation failed because an index or statistics with name 'idx_benchmark_B' already exists on table 'benchmark'.",
                    "ename": "",
                    "traceback": []
                },
                {
                    "output_type": "display_data",
                    "data": {
                        "text/html": "Total execution time: 00:00:00.022"
                    },
                    "metadata": {}
                }
            ],
            "execution_count": 10
        },
        {
            "cell_type": "code",
            "source": [
                "Drop INDEX benchmark.idx_benchmark_B"
            ],
            "metadata": {
                "azdata_cell_guid": "36a05a9e-262a-4fc7-bd01-958bbb42d722"
            },
            "outputs": [
                {
                    "output_type": "error",
                    "evalue": "Msg 3701, Level 11, State 7, Line 1\nCannot drop the index 'benchmark.idx_benchmark_B', because it does not exist or you do not have permission.",
                    "ename": "",
                    "traceback": []
                },
                {
                    "output_type": "display_data",
                    "data": {
                        "text/html": "Total execution time: 00:00:00.012"
                    },
                    "metadata": {}
                }
            ],
            "execution_count": 12
        },
        {
            "cell_type": "code",
            "source": [
                "DROP INDEX benchmark.idx_benchmark_A"
            ],
            "metadata": {
                "azdata_cell_guid": "a9ad5bdc-b35e-4652-b60b-ead556202207"
            },
            "outputs": [
                {
                    "output_type": "error",
                    "evalue": "Msg 3701, Level 11, State 7, Line 1\nCannot drop the index 'benchmark.idx_benchmark_A', because it does not exist or you do not have permission.",
                    "ename": "",
                    "traceback": []
                },
                {
                    "output_type": "display_data",
                    "data": {
                        "text/html": "Total execution time: 00:00:00.067"
                    },
                    "metadata": {}
                }
            ],
            "execution_count": 9
        },
        {
            "cell_type": "code",
            "source": [
                "select * from benchmark;"
            ],
            "metadata": {
                "azdata_cell_guid": "592c954a-8f43-414f-9439-f0c8900478ef"
            },
            "outputs": [
                {
                    "output_type": "display_data",
                    "data": {
                        "text/html": "(0 rows affected)"
                    },
                    "metadata": {}
                },
                {
                    "output_type": "execute_result",
                    "execution_count": 15,
                    "data": {
                        "application/vnd.dataresource+json": {
                            "schema": {
                                "fields": [
                                    {
                                        "name": "theKey"
                                    },
                                    {
                                        "name": "columnA"
                                    },
                                    {
                                        "name": "columnB"
                                    },
                                    {
                                        "name": "filler"
                                    }
                                ]
                            },
                            "data": []
                        },
                        "text/html": "<table><tr><th>theKey</th><th>columnA</th><th>columnB</th><th>filler</th></tr></table>"
                    },
                    "metadata": {}
                },
                {
                    "output_type": "display_data",
                    "data": {
                        "text/html": "Total execution time: 00:00:00.011"
                    },
                    "metadata": {}
                }
            ],
            "execution_count": 15
        },
        {
            "cell_type": "code",
            "source": [
                "delete from benchmark;"
            ],
            "metadata": {
                "azdata_cell_guid": "f74943e3-9362-416d-aa06-6678cb35855b"
            },
            "outputs": [
                {
                    "output_type": "display_data",
                    "data": {
                        "text/html": "(0 rows affected)"
                    },
                    "metadata": {}
                },
                {
                    "output_type": "display_data",
                    "data": {
                        "text/html": "Total execution time: 00:00:00.003"
                    },
                    "metadata": {}
                }
            ],
            "execution_count": 3
        },
        {
            "cell_type": "code",
            "source": [
                "insert into benchmark (theKey, columnA, columnB, filler) Values (1,2,3,'a')"
            ],
            "metadata": {
                "azdata_cell_guid": "a803f27c-2fd1-48c2-bd4d-891b48e30213"
            },
            "outputs": [],
            "execution_count": null
        },
        {
            "cell_type": "code",
            "source": [
                "select * from benchmark where benchmark.columnA = 5000"
            ],
            "metadata": {
                "azdata_cell_guid": "cd42dff4-2776-41e2-a1d0-7805a033b9fe"
            },
            "outputs": [],
            "execution_count": null
        },
        {
            "cell_type": "code",
            "source": [
                "explain"
            ],
            "metadata": {
                "azdata_cell_guid": "68fd72a2-4d1f-4d7e-a5dc-528a8d3ad8a1"
            },
            "outputs": [
                {
                    "output_type": "error",
                    "ename": "",
                    "evalue": "Msg 2812, Level 16, State 62, Line 1\nCould not find stored procedure 'explain'.",
                    "traceback": []
                },
                {
                    "output_type": "display_data",
                    "data": {
                        "text/html": "Total execution time: 00:00:00.006"
                    },
                    "metadata": {}
                }
            ],
            "execution_count": 15
        }
    ]
}